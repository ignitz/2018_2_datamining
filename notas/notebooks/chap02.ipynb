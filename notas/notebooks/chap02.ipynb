{
 "cells": [
  {
   "cell_type": "code",
   "execution_count": 3,
   "metadata": {
    "slideshow": {
     "slide_type": "slide"
    }
   },
   "outputs": [],
   "source": [
    "import matplotlib.pyplot as plt\n",
    "import numpy as np"
   ]
  },
  {
   "cell_type": "code",
   "execution_count": 4,
   "metadata": {
    "slideshow": {
     "slide_type": "fragment"
    }
   },
   "outputs": [],
   "source": [
    "# open iris database\n",
    "\n",
    "def load_dataset():\n",
    "    dataset = list()\n",
    "\n",
    "    with open('datasets/iris-slw.dat') as file:\n",
    "        while True:\n",
    "            try:\n",
    "                line = file.readline()\n",
    "                if len(line) <= 0:\n",
    "                    break\n",
    "                line = line.split(' ')\n",
    "                line = list(map(float, line))\n",
    "                dataset.append(line)\n",
    "            except:\n",
    "                break\n",
    "    return dataset\n",
    "\n",
    "dataset = np.matrix(load_dataset())[:,0]\n"
   ]
  },
  {
   "cell_type": "markdown",
   "metadata": {
    "slideshow": {
     "slide_type": "subslide"
    }
   },
   "source": [
    "## Univariate Analysis\n",
    "\n",
    "$D=\\begin{pmatrix}\n",
    "x_1 \\\\ \n",
    "\\dots \\\\ \n",
    "x_n\n",
    "\\end{pmatrix}$\n",
    "\n",
    "dataset\n",
    "\n",
    "## Empirical Probability Mass Function\n",
    "\n",
    "$\\hat f(x) = P = (X = x) = \\frac{1}{n}\\sum\\limits_{i = 1}^n {I = ({x_i} = x)} $\n",
    "\n",
    "The empirical cumulative distributio function (CDF) of $X$ is given as\n",
    "\n",
    "$\\hat F(x) = \\frac{1}{n}\\sum\\limits_{i = 1}^n {I({x_i} \\le x)} $\n",
    "\n",
    "\n",
    "The inverse cumulative distribution function qauntile function fo $X$ is defined as follows:\n",
    "\n",
    "${F^{ - 1}}(q) = \\min \\{ x|\\hat F(x) \\ge q\\} $ for $q \\in [0,1]$\n",
    "\n",
    "The inverse CDF gives the least value of X, for which $q$ fraction of the values are higher, and $1-q$ fraction of the values are lower.\n",
    "\n",
    "## Sample Mean: Iris sepal length\n",
    "\n",
    "$\\hat{\\mu}  = E[X] = \\sum\\limits_{i = 1}^n {x_i} $"
   ]
  },
  {
   "cell_type": "code",
   "execution_count": 5,
   "metadata": {
    "slideshow": {
     "slide_type": "subslide"
    }
   },
   "outputs": [
    {
     "data": {
      "text/plain": [
       "5.843333333333333"
      ]
     },
     "execution_count": 5,
     "metadata": {},
     "output_type": "execute_result"
    }
   ],
   "source": [
    "def mean(x):\n",
    "    sum_n = 0.0\n",
    "    n = int(len(x))\n",
    "    for value in x:\n",
    "        sum_n += float(value)\n",
    "    return 1/n * sum_n\n",
    "\n",
    "mean(dataset)\n"
   ]
  },
  {
   "cell_type": "code",
   "execution_count": 28,
   "metadata": {
    "slideshow": {
     "slide_type": "slide"
    }
   },
   "outputs": [
    {
     "data": {
      "image/png": "[encoded data removed]",
      "text/plain": [
       "<Figure size 720x720 with 1 Axes>"
      ]
     },
     "metadata": {},
     "output_type": "display_data"
    }
   ],
   "source": [
    "values = dict()\n",
    "\n",
    "plt.figure(figsize=(10,10))\n",
    "plt.axis([dataset.min(), dataset.max(), 0, 15])\n",
    "plt.hist(dataset, len(dataset), histtype='bar', range=(dataset.min(), dataset.max()))\n",
    " \n",
    "plt.show()"
   ]
  },
  {
   "cell_type": "code",
   "execution_count": 29,
   "metadata": {
    "slideshow": {
     "slide_type": "slide"
    }
   },
   "outputs": [
    {
     "data": {
      "image/png": "[encoded data removed]",
      "text/plain": [
       "<Figure size 576x288 with 1 Axes>"
      ]
     },
     "metadata": {},
     "output_type": "display_data"
    }
   ],
   "source": [
    "fig, ax = plt.subplots(figsize=(8, 4))\n",
    "\n",
    "# plot the cumulative histogram\n",
    "n, bins, patches = ax.hist(dataset, len(dataset), density=True, histtype='step',\n",
    "                           cumulative=True, label='Empirical')\n",
    "\n",
    "# tidy up the figure\n",
    "# ax.grid(True)\n",
    "# ax.legend(loc='right')\n",
    "ax.set_title('Empirical CDF: sepal length')\n",
    "ax.set_xlabel('$x$')\n",
    "ax.set_ylabel('$\\hat{F}(x)$')\n",
    "\n",
    "plt.show()"
   ]
  },
  {
   "cell_type": "markdown",
   "metadata": {
    "slideshow": {
     "slide_type": "fragment"
    }
   },
   "source": [
    "Inverse CDF TODO"
   ]
  },
  {
   "cell_type": "markdown",
   "metadata": {
    "slideshow": {
     "slide_type": "slide"
    }
   },
   "source": [
    "## Variance and Standard Deviation\n",
    "\n",
    "The *variance* of a random variable $X$ provides a measure of how much the values of $X$ deviate from the mean or expected value of $X$.\n",
    "\n",
    "$\\sigma  = var(X) = E\\left[ {{{\\left( {X - \\mu } \\right)}^2}} \\right] = \\left\\{ {\\begin{array}{*{20}{c}}\n",
    "{\\sum\\limits_x {{{\\left( {x - \\mu } \\right)}^2}f(x)} }\\\\\n",
    "{\\int_{ - \\infty }^\\infty  {{{\\left( {x - \\mu } \\right)}^2}f(x)dx} }\n",
    "\\end{array}} \\right.$\n",
    "\n",
    "The *standard deviation* $\\sigma$, is positive square root of the variance, $\\sigma^2$.  \n",
    "The *sample variance* is defined as\n",
    "\n",
    "${\\hat \\sigma ^2} = \\frac{1}{n}\\sum\\limits_{i = 1}^n {{{\\left( {{x_i} - \\hat \\mu } \\right)}^2}} $\n",
    "\n",
    "and the *sample standard deviation* is\n",
    "\n",
    "$\\hat \\sigma  = \\sqrt {\\frac{1}{n}\\sum\\limits_{i = 1}^n {{{\\left( {{x_i} - \\hat \\mu } \\right)}^2}} } $"
   ]
  },
  {
   "cell_type": "code",
   "execution_count": 34,
   "metadata": {
    "slideshow": {
     "slide_type": "fragment"
    }
   },
   "outputs": [],
   "source": [
    "def variance(X):\n",
    "    return np.var(X)\n",
    "\n",
    "def std_deviation(X):\n",
    "    return np.std(X)"
   ]
  },
  {
   "cell_type": "markdown",
   "metadata": {},
   "source": [
    "Jumps a lot of things"
   ]
  },
  {
   "cell_type": "code",
   "execution_count": 60,
   "metadata": {},
   "outputs": [],
   "source": [
    "sepal_dataset = np.matrix(load_dataset()).T"
   ]
  },
  {
   "cell_type": "markdown",
   "metadata": {},
   "source": [
    "$\\hat{\\mu}=\\left ( \\begin{array}{*{20}{c}}\n",
    "{E[X_1]}\\\\\n",
    "{E[X_2]}\n",
    "\\end{array} \\right )$"
   ]
  },
  {
   "cell_type": "code",
   "execution_count": 68,
   "metadata": {},
   "outputs": [
    {
     "data": {
      "text/plain": [
       "matrix([[5.84333333],\n",
       "        [3.054     ]])"
      ]
     },
     "execution_count": 68,
     "metadata": {},
     "output_type": "execute_result"
    }
   ],
   "source": [
    "np.matrix([sepal_dataset[0,:].mean(), sepal_dataset[1,:].mean()]).T"
   ]
  },
  {
   "cell_type": "markdown",
   "metadata": {},
   "source": [
    "## Covariance matrix\n",
    "\n",
    "$\\hat \\Sigma  = E\\left[ {\\left( {{\\bf{X}} - \\mu } \\right){{\\left( {{\\bf{X}} - \\mu } \\right)}^T}} \\right] = \\left( {\\begin{array}{*{20}{c}}\n",
    "{\\sigma _1^2}&{{\\sigma _{12}}}\\\\\n",
    "{{\\sigma _{21}}}&{\\sigma _2^2}\n",
    "\\end{array}} \\right)$\n",
    "\n",
    "Obvious $\\sigma_{12} = \\sigma_{21}$.\n",
    "\n",
    "$var({\\bf{D}}) = tr(\\Sigma ) = \\sigma _1^2 + \\sigma _2^2$"
   ]
  },
  {
   "cell_type": "code",
   "execution_count": 124,
   "metadata": {},
   "outputs": [],
   "source": [
    "n = sepal_dataset.shape[1]\n",
    "s11 = sepal_dataset[0].var()\n",
    "s22 = sepal_dataset[1].var()\n",
    "a = sepal_dataset[0] - np.full(sepal_dataset[0].shape, sepal_dataset[0].mean())\n",
    "b = sepal_dataset[1] - np.full(sepal_dataset[1].shape, sepal_dataset[1].mean())\n",
    "s12 = s21 = 1/n * float(a.dot(b.T))"
   ]
  },
  {
   "cell_type": "code",
   "execution_count": 125,
   "metadata": {},
   "outputs": [
    {
     "data": {
      "text/plain": [
       "([0.6811222222222222, -0.03900666666666667],\n",
       " [-0.03900666666666667, 0.18675066666666665])"
      ]
     },
     "execution_count": 125,
     "metadata": {},
     "output_type": "execute_result"
    }
   ],
   "source": [
    "([s11, s12], [s21, s22])"
   ]
  },
  {
   "cell_type": "markdown",
   "metadata": {},
   "source": [
    "## Correlation\n",
    "\n",
    "${\\rho _{12}} = \\frac{{{\\sigma _{12}}}}{{{\\sigma _1}{\\sigma _2}}} = \\frac{{{\\sigma _{12}}}}{{\\sqrt {\\sigma _1^2\\sigma _2^2} }}$\n",
    "\n",
    "${{\\hat \\rho }_{12}} = \\frac{{{{\\hat \\sigma }_{12}}}}{{{{\\hat \\sigma }_1}{{\\hat \\sigma }_2}}} = \\frac{{\\sum\\nolimits_{i = 1}^n {\\left( {{x_{i1}} - {{\\hat \\mu }_1}} \\right)\\left( {{x_{i2}} - {{\\hat \\mu }_2}} \\right)} }}{{\\sqrt {\\sum\\nolimits_{i = 1}^n {{{\\left( {{x_{i1}} - {{\\hat \\mu }_1}} \\right)}^2}} \\sum\\nolimits_{i = 1}^n {{{\\left( {{x_{i2}} - {{\\hat \\mu }_2}} \\right)}^2}} } }}$"
   ]
  },
  {
   "cell_type": "code",
   "execution_count": 126,
   "metadata": {},
   "outputs": [
    {
     "data": {
      "text/plain": [
       "-0.10936924995064937"
      ]
     },
     "execution_count": 126,
     "metadata": {},
     "output_type": "execute_result"
    }
   ],
   "source": [
    "rho12 = s12/(np.sqrt(s11*s22))\n",
    "rho12"
   ]
  },
  {
   "cell_type": "markdown",
   "metadata": {},
   "source": [
    "TODO: create graph with line angle correlation and a lot of things"
   ]
  },
  {
   "cell_type": "markdown",
   "metadata": {},
   "source": [
    "## Normalization Example\n",
    "\n"
   ]
  }
 ],
 "metadata": {
  "kernelspec": {
   "display_name": "Python 3",
   "language": "python",
   "name": "python3"
  },
  "language_info": {
   "codemirror_mode": {
    "name": "ipython",
    "version": 3
   },
   "file_extension": ".py",
   "mimetype": "text/x-python",
   "name": "python",
   "nbconvert_exporter": "python",
   "pygments_lexer": "ipython3",
   "version": "3.7.0"
  }
 },
 "nbformat": 4,
 "nbformat_minor": 2
}
