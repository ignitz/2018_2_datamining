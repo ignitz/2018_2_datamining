{
 "cells": [
  {
   "cell_type": "markdown",
   "metadata": {},
   "source": [
    "# Data Mining\n",
    "## Chap 01"
   ]
  },
  {
   "cell_type": "markdown",
   "metadata": {},
   "source": [
    "### Data Matrix\n"
   ]
  },
  {
   "cell_type": "code",
   "execution_count": 1,
   "metadata": {},
   "outputs": [],
   "source": [
    "import matplotlib.pyplot as plt\n",
    "import numpy as np"
   ]
  },
  {
   "cell_type": "code",
   "execution_count": 2,
   "metadata": {},
   "outputs": [],
   "source": [
    "# open iris database\n",
    "\n",
    "def load_dataset():\n",
    "    dataset = list()\n",
    "\n",
    "    with open('datasets/iris.txt') as file:\n",
    "        while True:\n",
    "            try:\n",
    "                line = file.readline()\n",
    "                if len(line) <= 0:\n",
    "                    break\n",
    "                line = line.split(',')\n",
    "                line = list(map(float, line[:-1])) + [str(line[-1]).strip('\\n\"')]\n",
    "                dataset.append(line)\n",
    "            except:\n",
    "                break\n",
    "    return dataset"
   ]
  },
  {
   "cell_type": "code",
   "execution_count": 66,
   "metadata": {},
   "outputs": [],
   "source": [
    "def dot_prod(vec1, vec2): return np.dot(vec1, vec2)\n",
    "\n",
    "def euc_norm(vec): return np.sqrt(np.dot(vec,vec))\n",
    "\n",
    "def unit_vector(vec): return vec/euc_norm(vec)\n",
    "\n",
    "def cosine(vec1, vec2): return np.dot(vec1, vec2)/(euc_norm(vec1)*euc_norm(vec2))\n",
    "\n",
    "def ort_proj(vec1_vec2): return np.array((np.dot(vec1, vec2)/np.dot(vec1, vec1))*vec1)\n",
    "\n",
    "class Iris(object):\n",
    "    def __init__(self, sp_w, sp_l, pt_w, pt_l, class_name):\n",
    "        super()\n",
    "        self.vector = np.array([sp_w, sp_l, pt_w, pt_l])\n",
    "        self.class_name = class_name\n",
    "        \n",
    "    def get_sepal_size(self): return self.vector[:2]\n",
    "    def get_petal_size(self): return self.vector[2:]\n",
    "    def get_vector(self): return self.vector\n",
    "    def get_vector_T(self): return self.vector.reshape(4,1)\n",
    "    def get_class_name(self): return self.class_name\n",
    "    \n",
    "    def __repr__(self):\n",
    "        return self.class_name + ': ' + str(self.__dict__)\n",
    "\n",
    "class DataMatrix(object):\n",
    "    def __init__(self):\n",
    "        super()\n",
    "        self.matrix = None\n",
    "        self.class_names = list()\n",
    "        self.feature_names = ['Sepal Width', 'Sepal Length', 'Petal Width', 'Petal Length']\n",
    "        \n",
    "    def load_set(self):\n",
    "        for data in load_dataset():\n",
    "            iris = Iris(*data)\n",
    "            self.insert_iris_data(iris)\n",
    "        \n",
    "    def get_feature_names(self): return self.feature_names\n",
    "    def get_class_names(self): return set(self.class_names)\n",
    "    \n",
    "    def insert_iris_data(self, iris):\n",
    "        if self.matrix is None:\n",
    "            self.matrix = np.matrix(iris.get_vector())\n",
    "        else:\n",
    "            self.matrix = np.vstack([self.matrix, iris.get_vector()])\n",
    "        self.class_names.append(iris.get_class_name())\n",
    "\n",
    "    def mean(self): return self.matrix.mean()\n",
    "    \n",
    "    def get_min_max_mean(self):\n",
    "        sepalw_min, sepalw_max = self.matrix[:,0].min(), self.matrix[:,0].max()\n",
    "        sepalw_mean = self.matrix[:,0].mean()\n",
    "        sepall_min, sepall_max = self.matrix[:,1].min(), self.matrix[:,1].max()\n",
    "        sepall_mean = self.matrix[:,1].mean()\n",
    "        petalw_min, petalw_max = self.matrix[:,2].min(), self.matrix[:,2].max()\n",
    "        petalw_mean = self.matrix[:,2].mean()\n",
    "        petall_min, petall_max = self.matrix[:,3].min(), self.matrix[:,3].max()\n",
    "        petall_mean = self.matrix[:,3].mean()\n",
    "        response = {}\n",
    "        response['Sepal'] = {\\\n",
    "            'Width': {'min': sepalw_min, 'max': sepalw_max, 'mean': sepalw_mean}, \\\n",
    "            'Length': {'min': sepall_min, 'max': sepall_max, 'mean': sepall_mean}}\n",
    "        response['Petal'] = {\\\n",
    "            'Width': {'min': petalw_min, 'max': petalw_max, 'mean': petalw_mean}, \\\n",
    "            'Length': {'min': petall_min, 'max': petall_max, 'mean': petall_mean}}\n",
    "        response['vector_format'] = \\\n",
    "            [sepalw_min, sepalw_max, sepall_min, sepall_max, sepalw_mean, sepall_mean, \\\n",
    "            petalw_min, petalw_max, petall_min, petall_max, petalw_mean, petall_mean ]\n",
    "        return response\n",
    "    \n",
    "    def get_all_by_class(self, class_name):\n",
    "        index = 0\n",
    "        count = list()\n",
    "        for name in self.class_names:\n",
    "            if name == class_name:\n",
    "                count.append(index)\n",
    "            index += 1\n",
    "        return self.matrix[count]\n",
    "            \n",
    "    \n",
    "    def get_iris_data(self, index):\n",
    "        return self.matrix.tolist()[index] + [self.class_names[index]]\n",
    "    \n",
    "    def get_centered_matrix(self):\n",
    "        shape = self.matrix.shape\n",
    "        mean_matrix = np.matrix(np.full(shape, self.mean()))\n",
    "        return self.matrix - mean_matrix\n",
    "    \n",
    "    def __repr__(self):\n",
    "        return str(self.__dict__)\n"
   ]
  },
  {
   "cell_type": "code",
   "execution_count": 67,
   "metadata": {},
   "outputs": [],
   "source": [
    "dataset = DataMatrix()\n",
    "dataset.load_set()"
   ]
  },
  {
   "cell_type": "code",
   "execution_count": 68,
   "metadata": {},
   "outputs": [
    {
     "data": {
      "image/png": "[encoded data removed]",
      "text/plain": [
       "<Figure size 720x720 with 1 Axes>"
      ]
     },
     "metadata": {},
     "output_type": "display_data"
    }
   ],
   "source": [
    "# 'b': blue\n",
    "# 'g': green\n",
    "# 'r': red\n",
    "# 'c': cyan\n",
    "# 'm': magenta\n",
    "# 'y': yellow\n",
    "# 'k': black\n",
    "# 'w': white\n",
    "\n",
    "colors = ['b', 'g', 'r', 'c', 'm', 'y']\n",
    "\n",
    "plt.figure(figsize=(10,10))\n",
    "for cls_name in  dataset.get_class_names():\n",
    "    data = dataset.get_all_by_class(cls_name)\n",
    "    plt.plot(data[:,0], data[:,1], color=colors.pop(), marker='o', linestyle='None', label=cls_name)\n",
    "mean_X, mean_Y = dataset.get_min_max_mean()['vector_format'][4:6]\n",
    "\n",
    "# TODO: insert Y lines;;;;; não consegue Moisés\n",
    "# markerline, stemlines, baseline = plt.stem([mean_X], [mean_Y], '--')\n",
    "# plt.setp(stemlines, color='k', linewidth=2)\n",
    "\n",
    "plt.plot(mean_X, mean_Y, color='k', marker='o', linestyle='None', markersize=12)\n",
    "plt.axis(np.array(dataset.get_min_max_mean()['vector_format'][:4]) + np.array([-0.1,0.1,-0.1,0.1]))\n",
    "plt.legend(loc='upper right', fontsize='x-large')\n",
    "plt.xlabel('$X_1$: sepal length')\n",
    "plt.ylabel('$X_2$: sepal width')\n",
    "plt.show()"
   ]
  },
  {
   "cell_type": "code",
   "execution_count": null,
   "metadata": {},
   "outputs": [],
   "source": []
  }
 ],
 "metadata": {
  "kernelspec": {
   "display_name": "Python 3",
   "language": "python",
   "name": "python3"
  },
  "language_info": {
   "codemirror_mode": {
    "name": "ipython",
    "version": 3
   },
   "file_extension": ".py",
   "mimetype": "text/x-python",
   "name": "python",
   "nbconvert_exporter": "python",
   "pygments_lexer": "ipython3",
   "version": "3.7.0"
  }
 },
 "nbformat": 4,
 "nbformat_minor": 2
}
